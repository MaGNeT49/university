{
  "nbformat": 4,
  "nbformat_minor": 0,
  "metadata": {
    "colab": {
      "provenance": [],
      "include_colab_link": true
    },
    "kernelspec": {
      "name": "python3",
      "display_name": "Python 3"
    },
    "language_info": {
      "name": "python"
    }
  },
  "cells": [
    {
      "cell_type": "markdown",
      "metadata": {
        "id": "view-in-github",
        "colab_type": "text"
      },
      "source": [
        "<a href=\"https://colab.research.google.com/github/MaGNeT49/university/blob/master/Practical_11/Practical_11.ipynb\" target=\"_parent\"><img src=\"https://colab.research.google.com/assets/colab-badge.svg\" alt=\"Open In Colab\"/></a>"
      ]
    },
    {
      "cell_type": "markdown",
      "source": [
        "# **Практическая работа №11. Введение в ООП**\n",
        "\n",
        "\n"
      ],
      "metadata": {
        "id": "s-EuQCpnWXCn"
      }
    },
    {
      "cell_type": "markdown",
      "source": [
        "## **Задание 1. Напишите программу с классом Car**\n",
        "* Создайте конструктор класса Car.\n",
        "* Создайте атрибуты класса Car — color (цвет), type (тип), year (год).\n",
        "* Напишите пять методов:\n",
        "> 1. Запуск автомобиля (при его вызове выводится сообщение «Автомобиль заведен»)\n",
        "> 2. Отключение автомобиля (выводит сообщение «Автомобиль заглушен»)\n",
        "> 3. Присвоение автомобилю года выпуска\n",
        "> 4. Присвоение автомобилю типа\n",
        "> 5. Присвоение автомобилю цвета"
      ],
      "metadata": {
        "id": "OvDnozzI-g-6"
      }
    },
    {
      "cell_type": "code",
      "source": [
        "class Car:\n",
        "  def __init__(self, color, type_, year):\n",
        "    self.color = color\n",
        "    self.type_ = type_\n",
        "    self.year = year\n",
        "\n",
        "  def onCar(self):\n",
        "    print(\"Автомобиль заведен\")\n",
        "\n",
        "  def offCar(self):\n",
        "    print(\"Автомобиль заглушен\")\n",
        "\n",
        "\n",
        "car = Car(\"красный\", \"автомобиль\", 2013)\n",
        "\n",
        "print(car.year, car.type_, car.color)\n",
        "car.onCar()\n",
        "car.offCar()\n",
        "car.year = 2020\n",
        "car.type_ = \"грузовик\"\n",
        "car.color = \"синий\"\n",
        "print(car.year, car.type_, car.color)"
      ],
      "metadata": {
        "id": "xMYBjxjy-hIE",
        "outputId": "dd7eddd8-4e50-4fe8-ad0f-072fa042e73d",
        "colab": {
          "base_uri": "https://localhost:8080/"
        }
      },
      "execution_count": null,
      "outputs": [
        {
          "output_type": "stream",
          "name": "stdout",
          "text": [
            "2013 автомобиль красный\n",
            "Автомобиль заведен\n",
            "Автомобиль заглушен\n",
            "2020 грузовик синий\n"
          ]
        }
      ]
    },
    {
      "cell_type": "markdown",
      "source": [
        "## **Задание 2. Создайте класс Sphere для представления сферы в трехмерном пространстве**\n"
      ],
      "metadata": {
        "id": "TQ5SpdjdbD4D"
      }
    },
    {
      "cell_type": "markdown",
      "source": [
        "Обеспечьте следующие методы класса:\n",
        "\n",
        "1. Конструктор, принимающий 4 действительных числа: радиус, и 3 координаты центра шара. Если конструктор вызывается без аргументов, создать объект сферы с единичным радиусом и центром в начале координат. Если конструктор вызывается с аргументом, создать объект сферы с соответствующим радиусом и центром в начале координат.\n",
        "\n",
        "2. Метод get_volume (), который возвращает действительное число — объем шара, ограниченной текущей сферой.\n",
        "\n",
        "3. Метод get_square (), который возвращает действительное число — площадь внешней поверхности сферы.\n",
        "\n",
        "4. Метод get_radius (), который возвращает действительное число — радиус сферы.\n",
        "\n",
        "5. Метод get_center (), который возвращает тьюпл с 3 действительными числами — координатами центра сферы в том же порядке, в каком они задаются в конструкторе.\n",
        "\n",
        "6. Метод set_radius (r), который принимает 1 аргумент — действительное число, и меняет радиус текущей сферы, ничего не возвращая.\n",
        "\n",
        "7. Метод set_center (x, y, z), который принимает 3 аргумента — действительных числа, и меняет координаты центра сферы, ничего не возвращая. Координаты задаются в том же порядке, что и в конструкторе.\n",
        "\n",
        "8. Метод is_point_inside (x, y, z), который принимает 3 аргумента — действительных числа — координаты некоторой точки в пространстве (в том же порядке, что и в конструкторе), и возвращает логическое значение True или False в зависимости от того, находится эта точка внутри сферы."
      ],
      "metadata": {
        "id": "Q5Ow51wfASZH"
      }
    },
    {
      "cell_type": "code",
      "source": [
        "# Тесты\n",
        "\n",
        "s0 = Sphere(0.5) # test sphere creation with radius and default center\n",
        "print(s0.get_center()) # (0.0, 0.0, 0.0)\n",
        "print(s0.get_volume()) # 0.523598775598\n",
        "print(s0.is_point_inside(0 , -1.5, 0)) # False\n",
        "s0.set_radius(1.6)\n",
        "print(s0.is_point_inside(0, -1.5, 0)) # True\n",
        "print(s0.get_radius()) # 1.6"
      ],
      "metadata": {
        "id": "xYx3bR2Lbv42",
        "outputId": "2450c94c-c96e-4a9a-a594-0e4b4bb6aea2",
        "colab": {
          "base_uri": "https://localhost:8080/"
        }
      },
      "execution_count": null,
      "outputs": [
        {
          "output_type": "stream",
          "name": "stdout",
          "text": [
            "(0, 0, 0)\n",
            "0.5235987755982988\n",
            "False\n",
            "True\n",
            "1.6\n"
          ]
        }
      ]
    },
    {
      "cell_type": "code",
      "source": [
        "from math import pi, sqrt\n",
        "\n",
        "class Sphere:\n",
        "  def __init__(self, radius=1, x=0, y=0, z=0):\n",
        "    self.radius = radius\n",
        "    self.x = x\n",
        "    self.y = y\n",
        "    self.z = z\n",
        "\n",
        "  def get_volume(self):\n",
        "    return 4 / 3 * pi * self.radius ** 3\n",
        "\n",
        "  def get_square(self):\n",
        "    return 4 * pi * self.radius ** 2\n",
        "\n",
        "  def get_radius(self):\n",
        "    return self.radius\n",
        "\n",
        "  def get_center(self):\n",
        "    return (self.x, self.y, self.z)\n",
        "\n",
        "  def set_radius(self, r):\n",
        "    self.radius = r\n",
        "\n",
        "  def set_center(self, x, y, z):\n",
        "    self.x = x\n",
        "    self.y = y\n",
        "    self.z = z\n",
        "\n",
        "  def is_point_inside(self, x, y, z):\n",
        "    point = sqrt((x - self.x) ** 2 + (y - self.y) ** 2 + (z - self.z) ** 2)\n",
        "    if point <= self.radius:\n",
        "      return True\n",
        "    else:\n",
        "      return False"
      ],
      "metadata": {
        "id": "d-vd-AYRdBId"
      },
      "execution_count": null,
      "outputs": []
    },
    {
      "cell_type": "markdown",
      "source": [
        "## **Задание 3. Создайте класс SuperStr, который наследует функциональность стандартного типа str и содержит 2 новых метода:**"
      ],
      "metadata": {
        "id": "UuJ9K_zAcaY_"
      }
    },
    {
      "cell_type": "markdown",
      "source": [
        "1. Метод is_repeatance (s), который принимает 1 аргумент s и возвращает True или False в зависимости от того, может ли текущая строку быть получена целым количеством повторов строки s. Вернуть False, если s не является строкой. Считать, что пустая строка не содержит повторов.\n",
        "\n",
        "2. Метод is_palindrom (), который возвращает True или False в зависимости от того, является ли строка палиндромом. Регистрами символов пренебрегать. Пустую строку считать палиндромом."
      ],
      "metadata": {
        "id": "GX99X81VchPW"
      }
    },
    {
      "cell_type": "code",
      "source": [
        "class SuperStr(str):\n",
        "  def is_repeatance(self, s):\n",
        "    if not isinstance(s, str):\n",
        "      return False\n",
        "    return self.count(s) * len(s) == len(self)\n",
        "\n",
        "  def is_palindrom(self):\n",
        "    return self.lower() == self.lower()[::-1]"
      ],
      "metadata": {
        "id": "LtIAKDWFdEcr"
      },
      "execution_count": 3,
      "outputs": []
    },
    {
      "cell_type": "code",
      "source": [
        "# Тесты\n",
        "\n",
        "s = SuperStr(\"123123123123\")\n",
        "print(s.is_repeatance(\"123\")) # True\n",
        "print(s.is_repeatance(\"123123\")) # True\n",
        "print(s.is_repeatance(\"123123123123\")) # True\n",
        "print(s.is_repeatance(\"12312\")) # False\n",
        "print(s.is_repeatance(123)) # False\n",
        "print(s.is_palindrom()) # False\n",
        "print(s) # 123123123123 (строка)\n",
        "print(int(s)) # 123123123123 (целое число)\n",
        "print(s + \"qwe\") # 123123123123qwe\n",
        "p = SuperStr(\"123_321\")\n",
        "print(p.is_palindrom()) # True"
      ],
      "metadata": {
        "id": "oRO3alwicoNp",
        "colab": {
          "base_uri": "https://localhost:8080/"
        },
        "outputId": "2d4aa2df-0038-45c8-871a-9ad4eb8daa6d"
      },
      "execution_count": 4,
      "outputs": [
        {
          "output_type": "stream",
          "name": "stdout",
          "text": [
            "True\n",
            "True\n",
            "True\n",
            "False\n",
            "False\n",
            "False\n",
            "123123123123\n",
            "123123123123\n",
            "123123123123qwe\n",
            "True\n"
          ]
        }
      ]
    },
    {
      "cell_type": "markdown",
      "source": [
        "## **Задание 4. В коде ниже представлен класс преподавателей и класс студентов (вы можете взять этот код за основу или написать свой).**"
      ],
      "metadata": {
        "id": "m9EGwLY9jZbw"
      }
    },
    {
      "cell_type": "code",
      "source": [
        "class Student:\n",
        "    def __init__(self, name, surname, gender):\n",
        "        self.name = name\n",
        "        self.surname = surname\n",
        "        self.gender = gender\n",
        "        self.finished_courses = []\n",
        "        self.courses_in_progress = []\n",
        "        self.grades = {}\n",
        "\n",
        "    def add_courses(self, course_name):\n",
        "        self.finished_courses.append(course_name)\n",
        "\n",
        "\n",
        "class Mentor:\n",
        "    def __init__(self, name, surname):\n",
        "        self.name = name\n",
        "        self.surname = surname\n",
        "        self.courses_attached = []\n",
        "\n",
        "    def rate_hw(self, student, course, grade):\n",
        "        student.grades[course] = [grade]"
      ],
      "metadata": {
        "id": "PlqK9m7KrT6e"
      },
      "execution_count": 5,
      "outputs": []
    },
    {
      "cell_type": "code",
      "source": [
        "best_student = Student('Ruoy', 'Eman', 'your_gender')\n",
        "cool_mentor = Mentor('Some', 'Buddy')\n",
        "cool_mentor.rate_hw(best_student, 'Python', 10)\n",
        "\n",
        "print(\"Имя студента: \", best_student.name)\n",
        "print(\"Имя преподавателя: \", cool_mentor.name)\n",
        "print(\"Оценки студента по курсам: \", best_student.grades)"
      ],
      "metadata": {
        "colab": {
          "base_uri": "https://localhost:8080/"
        },
        "id": "oNc1-dVaw3ee",
        "outputId": "97a7aa60-5345-4de1-9503-ca40361a4e0f"
      },
      "execution_count": 6,
      "outputs": [
        {
          "output_type": "stream",
          "name": "stdout",
          "text": [
            "Имя студента:  Ruoy\n",
            "Имя преподавателя:  Some\n",
            "Оценки студента по курсам:  {'Python': [10]}\n"
          ]
        }
      ]
    },
    {
      "cell_type": "markdown",
      "source": [
        "### **4.1. Наследование**"
      ],
      "metadata": {
        "id": "08FkYxULrxE-"
      }
    },
    {
      "cell_type": "markdown",
      "source": [
        "* Класс Mentor должен стать родительским классом для преподавателей. От него нужно реализовать наследование классов Lecturer (лекторы) и Reviewer (эксперты, проверяющие домашние задания).\n",
        "\n",
        "> Имя, фамилю и список закрепленных курсов логично реализовать на уровне родительского класса."
      ],
      "metadata": {
        "id": "YNjsCv5ItOii"
      }
    },
    {
      "cell_type": "code",
      "source": [
        "class Student:\n",
        "    def __init__(self, name, surname, gender):\n",
        "        self.name = name\n",
        "        self.surname = surname\n",
        "        self.gender = gender\n",
        "        self.finished_courses = []\n",
        "        self.courses_in_progress = []\n",
        "        self.grades = {}\n",
        "\n",
        "    def add_courses(self, course_name):\n",
        "        self.finished_courses.append(course_name)\n",
        "\n",
        "\n",
        "class Mentor:\n",
        "    def __init__(self, name, surname):\n",
        "        self.name = name\n",
        "        self.surname = surname\n",
        "        self.courses_attached = []\n",
        "\n",
        "    def rate_hw(self, student, course, grade):\n",
        "        student.grades[course] = [grade]\n",
        "\n",
        "class Lecturer(Mentor):\n",
        "  pass\n",
        "\n",
        "class Reviewer(Mentor):\n",
        "  pass"
      ],
      "metadata": {
        "id": "1quZPRZKtIoc"
      },
      "execution_count": 8,
      "outputs": []
    },
    {
      "cell_type": "markdown",
      "source": [
        "### **4.2. Атрибуты и взаимодействие классов**"
      ],
      "metadata": {
        "id": "oL8kB-uUtH5K"
      }
    },
    {
      "cell_type": "markdown",
      "source": [
        "* Реализуйте возможность проставления оценок студентам только Reviewer-ам (реализуйте такой метод).\n",
        "\n",
        "* Реализуйте метод выставления оценок лекторам у класса Student (оценки по 10-балльной шкале, хранятся в атрибуте-словаре у Lecturer, в котором ключи – названия курсов, а значения – списки оценок). Лектор при этом должен быть закреплен за тем курсом, на который записан студент (реализовать проверку)."
      ],
      "metadata": {
        "id": "ddcuJFCksWsY"
      }
    },
    {
      "cell_type": "code",
      "source": [
        "class Student:\n",
        "  def __init__(self, name, surname, gender):\n",
        "    self.name = name\n",
        "    self.surname = surname\n",
        "    self.gender = gender\n",
        "    self.finished_courses = []\n",
        "    self.courses_in_progress = []\n",
        "    self.grades = {}\n",
        "\n",
        "  def add_courses(self, course_name):\n",
        "    self.finished_courses.append(course_name)\n",
        "\n",
        "  def all_courses(self):\n",
        "    return self.courses_in_progress + self.finished_courses\n",
        "\n",
        "  def rate_lector(self, lector, course, rate):\n",
        "    if course not in self.all_courses():\n",
        "      return\n",
        "    if course not in lector.courses_attached:\n",
        "      return\n",
        "    else:\n",
        "      lector.add_rate(course, rate)\n",
        "\n",
        "\n",
        "class Mentor:\n",
        "  def __init__(self, name, surname):\n",
        "    self.name = name\n",
        "    self.surname = surname\n",
        "    self.courses_attached = []\n",
        "\n",
        "\n",
        "class Lecturer(Mentor):\n",
        "  def __init__(self, name: str, surname: str):\n",
        "    super().__init__(name, surname)\n",
        "    self.rating = {}\n",
        "\n",
        "  def add_rate(self, name_course, rate):\n",
        "    if name_course not in self.courses_attached:\n",
        "      return\n",
        "    if name_course in self.rating:\n",
        "      self.rating[name_course].append(rate)\n",
        "    else:\n",
        "      self.rating[name_course] = [rate]\n",
        "\n",
        "class Reviewer(Mentor):\n",
        "  def rate_hw(self, student, course, grade):\n",
        "    student.grades[course] = [grade]"
      ],
      "metadata": {
        "id": "U30yyvuirv6H"
      },
      "execution_count": null,
      "outputs": []
    },
    {
      "cell_type": "markdown",
      "source": [
        "### **4.3. Полиморфизм и магические методы**"
      ],
      "metadata": {
        "id": "i6PrwEBSu39u"
      }
    },
    {
      "cell_type": "markdown",
      "source": [
        "Перегрузите магический метод \\_\\_str__ у всех классов.\n",
        "У проверяющих он должен выводить информацию в следующем виде:\n",
        "\n",
        "\n",
        "\n",
        "```\n",
        "print(some_reviewer)\n",
        "Имя: Some\n",
        "Фамилия: Buddy\n",
        "```\n",
        "\n",
        "У лекторов:\n",
        "\n",
        "\n",
        "\n",
        "```\n",
        "print(some_lecturer)\n",
        "Имя: Some\n",
        "Фамилия: Buddy\n",
        "Средняя оценка за лекции: 9.9\n",
        "```\n",
        "\n",
        "А у студентов так:\n",
        "\n",
        "\n",
        "\n",
        "```\n",
        "print(some_student)\n",
        "Имя: Ruoy\n",
        "Фамилия: Eman\n",
        "Средняя оценка за домашние задания: 9.9\n",
        "Курсы в процессе изучения: Python, Git\n",
        "Завершенные курсы: Введение в программирование\n",
        "```\n",
        "\n",
        "\n",
        "\n"
      ],
      "metadata": {
        "id": "GvmtjlnmvF8b"
      }
    },
    {
      "cell_type": "code",
      "source": [
        "class Student:\n",
        "  def __init__(self, name, surname, gender):\n",
        "    self.name = name\n",
        "    self.surname = surname\n",
        "    self.gender = gender\n",
        "    self.finished_courses = []\n",
        "    self.courses_in_progress = []\n",
        "    self.grades = {}\n",
        "\n",
        "  def add_courses(self, course_name):\n",
        "    self.finished_courses.append(course_name)\n",
        "\n",
        "  def all_courses(self):\n",
        "    return self.courses_in_progress + self.finished_courses\n",
        "\n",
        "  def rate_lector(self, lector, course, rate):\n",
        "    if course not in self.all_courses():\n",
        "      return\n",
        "    if course not in lector.courses_attached:\n",
        "      return\n",
        "    else:\n",
        "      lector.add_rate(course, rate)\n",
        "\n",
        "  def avg_hw_rate(self):\n",
        "    all_rate = [k for i in self.grades for k in self.grades[i]]\n",
        "    if len(all_rate) == 0:\n",
        "      return 0\n",
        "    else:\n",
        "      return sum(all_rate) / len(all_rate)\n",
        "\n",
        "  def __str__(self):\n",
        "    txt = f\"Имя: {self.name}\\nФамилия: {self.surname}\\n\"\n",
        "    f\"Средняя оценка за домашние задания: {self.avg_hw_rate()}\\n\"\n",
        "    f\"Курсы в процессе изучения: {self.courses_in_progress}\"\n",
        "    f\"Завершенные курсы: {self.finished_courses}\"\n",
        "\n",
        "    return txt\n",
        "\n",
        "\n",
        "class Mentor:\n",
        "  def __init__(self, name, surname):\n",
        "    self.name = name\n",
        "    self.surname = surname\n",
        "    self.courses_attached = []\n",
        "\n",
        "\n",
        "class Lecturer(Mentor):\n",
        "  def __init__(self, name: str, surname: str):\n",
        "    super().__init__(name, surname)\n",
        "    self.rating = {}\n",
        "\n",
        "  def add_rate(self, name_course, rate):\n",
        "    if name_course not in self.courses_attached:\n",
        "      return\n",
        "    if name_course in self.rating:\n",
        "      self.rating[name_course].append(rate)\n",
        "    else:\n",
        "      self.rating[name_course] = [rate]\n",
        "\n",
        "  def avg_rating(self):\n",
        "    all_rating = [k for i in self.rating for k in self.rating[i]]\n",
        "    if len(all_rating) == 0:\n",
        "      return 0\n",
        "    else:\n",
        "      return sum(all_rating) / len(all_rating)\n",
        "\n",
        "  def __str__(self):\n",
        "    txt = f\"Имя: {self.name}\\nФамилия: {self.surname}\\n\"\n",
        "    f\"Средняя оценка за лекции: {self.avg_rating()}\"\n",
        "\n",
        "    return txt\n",
        "\n",
        "class Reviewer(Mentor):\n",
        "  def rate_hw(self, student, course, grade):\n",
        "    student.grades[course] = [grade]\n",
        "\n",
        "  def __str__(self):\n",
        "    txt = f\"Имя: {self.name}\\nФамилия: {self.surname}\\n\"\n",
        "\n",
        "    return txt"
      ],
      "metadata": {
        "id": "gCJAL_EmwU0b"
      },
      "execution_count": null,
      "outputs": []
    },
    {
      "cell_type": "markdown",
      "source": [
        "**Реализуйте перегрузку других магических методов на Ваш выбор (не менее трёх), из тех, что были изучены на паре, руководствуясь по смыслу контекстом представленных классов (студенты, преподаватели, оценки и т.д.)**"
      ],
      "metadata": {
        "id": "1DNE4TE3vfYI"
      }
    },
    {
      "cell_type": "code",
      "source": [
        "class Student:\n",
        "  def __init__(self, name, surname, gender):\n",
        "    self.name = name\n",
        "    self.surname = surname\n",
        "    self.gender = gender\n",
        "    self.finished_courses = []\n",
        "    self.courses_in_progress = []\n",
        "    self.grades = {}\n",
        "\n",
        "  def add_courses(self, course_name):\n",
        "    self.finished_courses.append(course_name)\n",
        "\n",
        "  def all_courses(self):\n",
        "    return self.courses_in_progress + self.finished_courses\n",
        "\n",
        "  def rate_lector(self, lector, course, rate):\n",
        "    if course not in self.all_courses():\n",
        "      return\n",
        "    if course not in lector.courses_attached:\n",
        "      return\n",
        "    else:\n",
        "      lector.add_rate(course, rate)\n",
        "\n",
        "  def avg_hw_rate(self):\n",
        "    all_rate = [k for i in self.grades for k in self.grades[i]]\n",
        "    if len(all_rate) == 0:\n",
        "      return 0\n",
        "    else:\n",
        "      return sum(all_rate) / len(all_rate)\n",
        "\n",
        "  def __str__(self):\n",
        "    txt = f\"Имя: {self.name}\\nФамилия: {self.surname}\\n\"\n",
        "    f\"Средняя оценка за домашние задания: {self.avg_hw_rate()}\\n\"\n",
        "    f\"Курсы в процессе изучения: {self.courses_in_progress}\"\n",
        "    f\"Завершенные курсы: {self.finished_courses}\"\n",
        "\n",
        "    return txt\n",
        "  def __int__(self):\n",
        "    return self.avg_hw_rate()\n",
        "\n",
        "\n",
        "class Mentor:\n",
        "  def __init__(self, name, surname):\n",
        "    self.name = name\n",
        "    self.surname = surname\n",
        "    self.courses_attached = []\n",
        "\n",
        "  def __getitem__(self):\n",
        "    return self.courses_attached\n",
        "\n",
        "\n",
        "class Lecturer(Mentor):\n",
        "  def __init__(self, name: str, surname: str):\n",
        "    super().__init__(name, surname)\n",
        "    self.rating = {}\n",
        "\n",
        "  def add_rate(self, name_course, rate):\n",
        "    if name_course not in self.courses_attached:\n",
        "      return\n",
        "    if name_course in self.rating:\n",
        "      self.rating[name_course].append(rate)\n",
        "    else:\n",
        "      self.rating[name_course] = [rate]\n",
        "\n",
        "  def avg_rating(self):\n",
        "    all_rating = [k for i in self.rating for k in self.rating[i]]\n",
        "    if len(all_rating) == 0:\n",
        "      return 0\n",
        "    else:\n",
        "      return sum(all_rating) / len(all_rating)\n",
        "\n",
        "  def __str__(self):\n",
        "    txt = f\"Имя: {self.name}\\nФамилия: {self.surname}\\n\"\n",
        "    f\"Средняя оценка за лекции: {self.avg_rating()}\"\n",
        "\n",
        "    return txt\n",
        "\n",
        "  def __int__(self):\n",
        "    return self.avg_rating()\n",
        "\n",
        "class Reviewer(Mentor):\n",
        "  def rate_hw(self, student, course, grade):\n",
        "    student.grades[course] = [grade]\n",
        "\n",
        "  def __str__(self):\n",
        "    txt = f\"Имя: {self.name}\\nФамилия: {self.surname}\\n\"\n",
        "\n",
        "    return txt"
      ],
      "metadata": {
        "id": "WNCf9PPMu4Gv"
      },
      "execution_count": null,
      "outputs": []
    },
    {
      "cell_type": "markdown",
      "source": [
        "### **4.4. Тестирование**\n",
        "\n",
        "Создайте по 2 экземпляра каждого класса, вызовите все созданные методы, а также реализуйте две функции:\n",
        "\n",
        "* для подсчета средней оценки за домашние задания по всем студентам в рамках конкретного курса (в качестве аргументов принимаем список студентов и название курса);\n",
        "* для подсчета средней оценки за лекции всех лекторов в рамках курса (в качестве аргумента принимаем список лекторов и название курса)."
      ],
      "metadata": {
        "id": "X8xvLNT6u4Nn"
      }
    },
    {
      "cell_type": "code",
      "source": [
        "class Student:\n",
        "  def __init__(self, name, surname, gender):\n",
        "    self.name = name\n",
        "    self.surname = surname\n",
        "    self.gender = gender\n",
        "    self.finished_courses = []\n",
        "    self.courses_in_progress = []\n",
        "    self.grades = {}\n",
        "\n",
        "  def add_courses(self, course_name):\n",
        "    self.finished_courses.append(course_name)\n",
        "\n",
        "  def all_courses(self):\n",
        "    return self.courses_in_progress + self.finished_courses\n",
        "\n",
        "  def rate_lector(self, lector, course, rate):\n",
        "    if course not in self.all_courses():\n",
        "      return\n",
        "    if course not in lector.courses_attached:\n",
        "      return\n",
        "    else:\n",
        "      lector.add_rate(course, rate)\n",
        "\n",
        "  def avg_hw_rate(self):\n",
        "    all_rate = [k for i in self.grades for k in self.grades[i]]\n",
        "    if len(all_rate) == 0:\n",
        "      return 0\n",
        "    else:\n",
        "      return sum(all_rate) / len(all_rate)\n",
        "\n",
        "  def __str__(self):\n",
        "    return (f\"Имя: {self.name}\\nФамилия: {self.surname}\\n\"\n",
        "            f\"Средняя оценка за домашние задания: {self.avg_hw_rate()}\\n\"\n",
        "            f\"Курсы в процессе изучения: {self.courses_in_progress}\\n\"\n",
        "            f\"Завершенные курсы: {self.finished_courses}\")\n",
        "  def __int__(self):\n",
        "    return self.avg_hw_rate()\n",
        "\n",
        "\n",
        "class Mentor:\n",
        "  def __init__(self, name, surname):\n",
        "    self.name = name\n",
        "    self.surname = surname\n",
        "    self.courses_attached = []\n",
        "\n",
        "  def add_courses(self, course_name):\n",
        "    self.courses_attached.append(course_name)\n",
        "\n",
        "  def __getitem__(self):\n",
        "    return self.courses_attached\n",
        "\n",
        "\n",
        "class Lecturer(Mentor):\n",
        "  def __init__(self, name: str, surname: str):\n",
        "    super().__init__(name, surname)\n",
        "    self.rating = {}\n",
        "\n",
        "  def add_rate(self, name_course, rate):\n",
        "    if name_course not in self.courses_attached:\n",
        "      return\n",
        "    if name_course in self.rating:\n",
        "      self.rating[name_course].append(rate)\n",
        "    else:\n",
        "      self.rating[name_course] = [rate]\n",
        "\n",
        "  def avg_rating(self):\n",
        "    all_rating = [k for i in self.rating for k in self.rating[i]]\n",
        "    if len(all_rating) == 0:\n",
        "      return 0\n",
        "    else:\n",
        "      return sum(all_rating) / len(all_rating)\n",
        "\n",
        "  def __str__(self):\n",
        "    return (f\"Имя: {self.name}\\nФамилия: {self.surname}\\n\"\n",
        "            f\"Средняя оценка за лекции: {self.avg_rating()}\")\n",
        "\n",
        "  def __int__(self):\n",
        "    return self.avg_rating()\n",
        "\n",
        "class Reviewer(Mentor):\n",
        "  def rate_hw(self, student, course, grade):\n",
        "    if course not in student.all_courses() or course not in self.courses_attached:\n",
        "      return\n",
        "    else:\n",
        "      student.grades[course] = [grade]\n",
        "\n",
        "  def __str__(self):\n",
        "    txt = f\"Имя: {self.name}\\nФамилия: {self.surname}\\n\"\n",
        "\n",
        "    return txt\n",
        "\n",
        "def calc_avg_students_rate_group(students, course):\n",
        "  rate_students = []\n",
        "\n",
        "  for i in students:\n",
        "    if course in i.grades.keys():\n",
        "      rate_students += i.grades[course]\n",
        "\n",
        "  if len(rate_students) == 0:\n",
        "    return 0\n",
        "\n",
        "  return sum(rate_students) / len(rate_students)\n",
        "\n",
        "def calc_avg_lectors_rate_group(lectors, course):\n",
        "  rate_lectors = []\n",
        "\n",
        "  for i in lectors:\n",
        "    if course in i.rating.keys():\n",
        "      rate_lectors += i.rating[course]\n",
        "\n",
        "  if len(rate_lectors) == 0:\n",
        "    return 0\n",
        "\n",
        "  return sum(rate_lectors) / len(rate_lectors)\n",
        "\n",
        "lector_1 = Lecturer('Иван', 'Иванов')\n",
        "lector_1.add_courses(\"Python\")\n",
        "lector_1.add_courses(\"C++\")\n",
        "lector_2 = Lecturer('Тамара', 'Головина')\n",
        "lector_2.add_courses(\"C#\")\n",
        "lector_2.add_courses(\"Python\")\n",
        "\n",
        "student_1 = Student('Даниил', 'Михайлов', 'м')\n",
        "student_1.add_courses(\"C++\")\n",
        "student_1.add_courses(\"Python\")\n",
        "student_2 = Student('Елизавета', 'Афанасьева', 'ж')\n",
        "student_2.add_courses(\"C#\")\n",
        "student_2.add_courses(\"Python\")\n",
        "\n",
        "reviewer_1 = Reviewer(\"Олег\", \"Громов\")\n",
        "reviewer_1.add_courses(\"C++\")\n",
        "reviewer_1.add_courses(\"Python\")\n",
        "reviewer_2 = Reviewer(\"Иван\", \"Попов\")\n",
        "reviewer_2.add_courses(\"C#\")\n",
        "reviewer_2.add_courses(\"Python\")\n",
        "\n",
        "student_1.rate_lector(lector_1, \"C++\", 10)\n",
        "student_1.rate_lector(lector_1, \"Python\", 8)\n",
        "student_2.rate_lector(lector_2, \"C#\", 9)\n",
        "student_2.rate_lector(lector_2, \"Python\", 10)\n",
        "\n",
        "reviewer_1.rate_hw(student_1, \"C++\", 8)\n",
        "reviewer_1.rate_hw(student_1, \"Python\", 10)\n",
        "\n",
        "reviewer_2.rate_hw(student_2, \"C#\", 9)\n",
        "reviewer_2.rate_hw(student_2, \"Python\", 7)\n",
        "\n",
        "print(f\"Студенты: \\n{student_1}\\n{student_2}\\n{'-' * 20}\\nЛекторы: \\n{lector_1}\\n{lector_2}\\n{'-' * 20}\\nЭксперты: \\n{reviewer_1}\\n{reviewer_2}\\n{'-' * 20}\")\n",
        "print(f\"Средняя оценка студентов в группе Python: {calc_avg_students_rate_group([student_1, student_2], 'Python')}\")\n",
        "print(f\"Средняя оценка лекций в группе Python: {calc_avg_lectors_rate_group([lector_1, lector_2], 'Python')}\")\n"
      ],
      "metadata": {
        "id": "uh8n08fdu4V_",
        "colab": {
          "base_uri": "https://localhost:8080/"
        },
        "outputId": "f1221a0f-a385-4e27-923b-91fa9648ca9e"
      },
      "execution_count": 67,
      "outputs": [
        {
          "output_type": "stream",
          "name": "stdout",
          "text": [
            "Студенты: \n",
            "Имя: Даниил\n",
            "Фамилия: Михайлов\n",
            "Средняя оценка за домашние задания: 9.0\n",
            "Курсы в процессе изучения: []\n",
            "Завершенные курсы: ['C++', 'Python']\n",
            "Имя: Елизавета\n",
            "Фамилия: Афанасьева\n",
            "Средняя оценка за домашние задания: 8.0\n",
            "Курсы в процессе изучения: []\n",
            "Завершенные курсы: ['C#', 'Python']\n",
            "--------------------\n",
            "Лекторы: \n",
            "Имя: Иван\n",
            "Фамилия: Иванов\n",
            "Средняя оценка за лекции: 9.0\n",
            "Имя: Тамара\n",
            "Фамилия: Головина\n",
            "Средняя оценка за лекции: 9.5\n",
            "--------------------\n",
            "Эксперты: \n",
            "Имя: Олег\n",
            "Фамилия: Громов\n",
            "\n",
            "Имя: Иван\n",
            "Фамилия: Попов\n",
            "\n",
            "--------------------\n",
            "Средняя оценка студентов в группе Python: 8.5\n",
            "Средняя оценка лекций в группе Python: 9.0\n"
          ]
        }
      ]
    }
  ]
}