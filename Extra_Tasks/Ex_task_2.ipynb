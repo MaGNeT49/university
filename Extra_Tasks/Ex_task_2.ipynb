{
  "nbformat": 4,
  "nbformat_minor": 0,
  "metadata": {
    "colab": {
      "provenance": [],
      "authorship_tag": "ABX9TyNdpsM/UgC/pA52Fcv8NChR",
      "include_colab_link": true
    },
    "kernelspec": {
      "name": "python3",
      "display_name": "Python 3"
    },
    "language_info": {
      "name": "python"
    }
  },
  "cells": [
    {
      "cell_type": "markdown",
      "metadata": {
        "id": "view-in-github",
        "colab_type": "text"
      },
      "source": [
        "<a href=\"https://colab.research.google.com/github/MaGNeT49/university/blob/master/Extra_Tasks/Ex_task_2.ipynb\" target=\"_parent\"><img src=\"https://colab.research.google.com/assets/colab-badge.svg\" alt=\"Open In Colab\"/></a>"
      ]
    },
    {
      "cell_type": "code",
      "source": [
        "phoneBook = {}\n",
        "\n",
        "def addContact():\n",
        "  name = str(input(\"\\nВведите имя контакта: \"))\n",
        "  lst = name.split()\n",
        "\n",
        "  for i in range(len(lst)):\n",
        "    lst[i] = lst[i].title()\n",
        "\n",
        "  name = \" \".join(lst)\n",
        "\n",
        "  if name in phoneBook.keys():\n",
        "    print(\"Имя уже есть в телефонной книге!\")\n",
        "\n",
        "  numberPhone = str(input(\"Введите номер телефона: \"))\n",
        "\n",
        "  numberPhone = standardizeNumberPhone(numberPhone)\n",
        "\n",
        "  numberPhone = numberPhone + \"0\" * (12 - len(numberPhone))\n",
        "  phoneBook[name] = numberPhone\n",
        "\n",
        "  print('')\n",
        "\n",
        "def removeContact():\n",
        "  name = str(input(\"\\nВведите имя: \"))\n",
        "\n",
        "  if checkNameInPhoneBook(name) == False:\n",
        "    print(\"Такого имени нет в телефонной книге!\\n\")\n",
        "    return\n",
        "\n",
        "  delPhone = phoneBook.pop(name)\n",
        "\n",
        "  print(f\"Номер: {delPhone} удалён из телефонной книге\\n\")\n",
        "\n",
        "def watchPhoneBook():\n",
        "  print(\"\\nСписок контактов:\")\n",
        "\n",
        "  if len(phoneBook) == 0:\n",
        "    print(\"Пусто\\n\")\n",
        "    return\n",
        "\n",
        "  for name, numberPhone in phoneBook.items():\n",
        "    print(name, numberPhone)\n",
        "\n",
        "  print(\"\")\n",
        "\n",
        "def changePhoneNumber():\n",
        "  name = str(input(\"\\nВведите имя: \"))\n",
        "\n",
        "  if checkNameInPhoneBook(name) == False:\n",
        "    print(\"Такого имени нет в телефонной книге!\\n\")\n",
        "    return\n",
        "\n",
        "  newNumberPhone = str(input(\"Введите изменённый номер телефона: \"))\n",
        "  newNumberPhone = standardizeNumberPhone(newNumberPhone)\n",
        "\n",
        "  oldNumberPhone = phoneBook[name]\n",
        "  phoneBook[name] = newNumberPhone\n",
        "\n",
        "  print(f\"{oldNumberPhone} изменён на {newNumberPhone}\\n\")\n",
        "\n",
        "def standardizeNumberPhone(numberPhone):\n",
        "  if numberPhone[0] == \"8\":\n",
        "    numberPhone = numberPhone.replace(\"8\", \"+7\", 1)\n",
        "  elif numberPhone[0] == \"7\":\n",
        "    numberPhone = numberPhone.replace(\"7\", \"+7\", 1)\n",
        "  elif numberPhone[:2] != \"+7\":\n",
        "    numberPhone = \"+7\" + numberPhone\n",
        "\n",
        "  numberPhone = (numberPhone + \"0\" * (12 - len(numberPhone)))[:12]\n",
        "\n",
        "  return numberPhone\n",
        "\n",
        "def checkNameInPhoneBook(name):\n",
        "  if name in phoneBook:\n",
        "    return True\n",
        "  else:\n",
        "    return False\n",
        "\n",
        "while True:\n",
        "  print(\"Выберите пункт:\\\n",
        "         \\n1. Добавить контакт\\\n",
        "         \\n2. Удалить контакт\\\n",
        "         \\n3. Просмотреть телефонную книгу\\\n",
        "         \\n4. Изменить номер телефона\\\n",
        "         \\nЧтобы выйти введите \\\"Выход\\\"\\n\")\n",
        "\n",
        "  clientInput = str(input())\n",
        "\n",
        "  if clientInput == '1':\n",
        "    addContact()\n",
        "  elif clientInput == '2':\n",
        "    removeContact()\n",
        "  elif clientInput == '3':\n",
        "    watchPhoneBook()\n",
        "  elif clientInput == '4':\n",
        "    changePhoneNumber()\n",
        "  elif clientInput == 'Выход':\n",
        "    break\n",
        "  else:\n",
        "    print(\"Введено неправильное значение!\\n\")"
      ],
      "metadata": {
        "colab": {
          "base_uri": "https://localhost:8080/"
        },
        "id": "hoxDrWYCtyeu",
        "outputId": "cc671ca4-0f14-43b5-b7e2-8a0af5446d74"
      },
      "execution_count": 12,
      "outputs": [
        {
          "name": "stdout",
          "output_type": "stream",
          "text": [
            "Выберите пункт:         \n",
            "1. Добавить контакт         \n",
            "2. Удалить контакт         \n",
            "3. Просмотреть телефонную книгу         \n",
            "4. Изменить номер телефона         \n",
            "Чтобы выйти введите \"Выход\"\n",
            "\n",
            "Выход\n"
          ]
        }
      ]
    }
  ]
}