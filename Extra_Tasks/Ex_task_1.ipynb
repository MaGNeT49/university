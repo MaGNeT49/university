{
  "nbformat": 4,
  "nbformat_minor": 0,
  "metadata": {
    "colab": {
      "provenance": [],
      "authorship_tag": "ABX9TyP/cLu3tCPgoQVQFB4tpb4R",
      "include_colab_link": true
    },
    "kernelspec": {
      "name": "python3",
      "display_name": "Python 3"
    },
    "language_info": {
      "name": "python"
    }
  },
  "cells": [
    {
      "cell_type": "markdown",
      "metadata": {
        "id": "view-in-github",
        "colab_type": "text"
      },
      "source": [
        "<a href=\"https://colab.research.google.com/github/MaGNeT49/university/blob/master/Extra_Tasks/Ex_task_1.ipynb\" target=\"_parent\"><img src=\"https://colab.research.google.com/assets/colab-badge.svg\" alt=\"Open In Colab\"/></a>"
      ]
    },
    {
      "cell_type": "code",
      "execution_count": null,
      "metadata": {
        "colab": {
          "base_uri": "https://localhost:8080/"
        },
        "id": "OBkS5-_zABrq",
        "outputId": "3ed9464a-8b52-43b5-c84d-4fb4df046790"
      },
      "outputs": [
        {
          "output_type": "stream",
          "name": "stdout",
          "text": [
            "Компьютер загадал число: (74) \n",
            "\n",
            "Ввод пользователя: 65\n",
            "Число больше!\n",
            "Ввод пользователя: 36\n",
            "Число больше!\n",
            "Ввод пользователя: 76\n",
            "Число меньше!\n",
            "Ввод пользователя: 74\n",
            "Число угадано!\n"
          ]
        }
      ],
      "source": [
        "import random\n",
        "\n",
        "botNum = random.randint(0, 101)\n",
        "print(f\"Компьютер загадал число: ({botNum}) \\n\")\n",
        "\n",
        "while True:\n",
        "  playerNum = input(\"Ввод пользователя: \")\n",
        "  if playerNum == \"Выход\":\n",
        "    break\n",
        "  elif playerNum.isdigit() == False:\n",
        "    print(\"Введите число!\")\n",
        "  elif botNum == int(playerNum):\n",
        "    print(\"Число угадано!\")\n",
        "    break\n",
        "  elif botNum > int(playerNum):\n",
        "    print(\"Число больше!\")\n",
        "  elif botNum < int(playerNum):\n",
        "    print(\"Число меньше!\")\n",
        "\n",
        "\n",
        "\n"
      ]
    }
  ]
}