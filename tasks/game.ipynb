{
  "nbformat": 4,
  "nbformat_minor": 0,
  "metadata": {
    "colab": {
      "provenance": [],
      "authorship_tag": "ABX9TyNtVfyy08qEKmkukxTAwvQi",
      "include_colab_link": true
    },
    "kernelspec": {
      "name": "python3",
      "display_name": "Python 3"
    },
    "language_info": {
      "name": "python"
    }
  },
  "cells": [
    {
      "cell_type": "markdown",
      "metadata": {
        "id": "view-in-github",
        "colab_type": "text"
      },
      "source": [
        "<a href=\"https://colab.research.google.com/github/MaGNeT49/university/blob/master/tasks/game.ipynb\" target=\"_parent\"><img src=\"https://colab.research.google.com/assets/colab-badge.svg\" alt=\"Open In Colab\"/></a>"
      ]
    },
    {
      "cell_type": "code",
      "execution_count": 19,
      "metadata": {
        "colab": {
          "base_uri": "https://localhost:8080/"
        },
        "id": "OBkS5-_zABrq",
        "outputId": "5031df37-c570-43c0-8654-5e2360f4aee9"
      },
      "outputs": [
        {
          "name": "stdout",
          "output_type": "stream",
          "text": [
            "Компьютер загадал число: (47) \n",
            "\n",
            "Ввод пользователя: Выход\n"
          ]
        }
      ],
      "source": [
        "import random\n",
        "\n",
        "botNum = random.randint(0, 100)\n",
        "print(f\"Компьютер загадал число: ({botNum}) \\n\")\n",
        "playerNum = 0\n",
        "\n",
        "while True:\n",
        "  playerNum = input(\"Ввод пользователя: \")\n",
        "  if playerNum == \"Выход\":\n",
        "    break\n",
        "  elif playerNum.isdigit() == False:\n",
        "    print(\"Введите число!\")\n",
        "  elif botNum == int(playerNum):\n",
        "    print(\"Число угадано!\")\n",
        "    break\n",
        "  elif botNum > int(playerNum):\n",
        "    print(\"Число больше!\")\n",
        "  elif botNum < int(playerNum):\n",
        "    print(\"Число меньше!\")\n",
        "\n",
        "\n",
        "\n"
      ]
    }
  ]
}